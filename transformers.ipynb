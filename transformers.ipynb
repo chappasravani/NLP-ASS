{
  "nbformat": 4,
  "nbformat_minor": 0,
  "metadata": {
    "colab": {
      "provenance": [],
      "authorship_tag": "ABX9TyP9WW+xWlvwmdV67EOIOlRY",
      "include_colab_link": true
    },
    "kernelspec": {
      "name": "python3",
      "display_name": "Python 3"
    },
    "language_info": {
      "name": "python"
    }
  },
  "cells": [
    {
      "cell_type": "markdown",
      "metadata": {
        "id": "view-in-github",
        "colab_type": "text"
      },
      "source": [
        "<a href=\"https://colab.research.google.com/github/chappasravani/NLP-ASS/blob/main/transformers.ipynb\" target=\"_parent\"><img src=\"https://colab.research.google.com/assets/colab-badge.svg\" alt=\"Open In Colab\"/></a>"
      ]
    },
    {
      "cell_type": "code",
      "execution_count": 1,
      "metadata": {
        "colab": {
          "base_uri": "https://localhost:8080/"
        },
        "id": "-4hLwW0Nru2O",
        "outputId": "bc6499cd-170a-4cbb-f6ca-96221c3817b1"
      },
      "outputs": [
        {
          "output_type": "stream",
          "name": "stderr",
          "text": [
            "/usr/local/lib/python3.11/dist-packages/huggingface_hub/utils/_auth.py:94: UserWarning: \n",
            "The secret `HF_TOKEN` does not exist in your Colab secrets.\n",
            "To authenticate with the Hugging Face Hub, create a token in your settings tab (https://huggingface.co/settings/tokens), set it as secret in your Google Colab and restart your session.\n",
            "You will be able to reuse this secret in all of your notebooks.\n",
            "Please note that authentication is recommended but still optional to access public models or datasets.\n",
            "  warnings.warn(\n"
          ]
        },
        {
          "output_type": "stream",
          "name": "stdout",
          "text": [
            "Welcome to the Indian Toursim Chatbot!\n",
            "Type 'quit' to end the conversation.\n",
            "\n",
            "You: how are you\n",
            "Chatbot : I'm doing well. How are you? What do you like to do in your spare time?\n",
            "You: i like to read books\n",
            "Chatbot : Reading is fun. I like to play video games. What kind of books do you read?\n",
            "You: what is the best book\n",
            "Chatbot : I read a lot of science fiction and fantasy books. What is your favorite video game?\n",
            "You: quit\n",
            "Chatbot: Goodbye!\n"
          ]
        }
      ],
      "source": [
        "import os\n",
        "import atexit\n",
        "import shutil\n",
        "from transformers import BlenderbotTokenizer, BlenderbotForConditionalGeneration\n",
        "model_name=\"facebook/blenderbot-1B-distill\"\n",
        "tokenizer=BlenderbotTokenizer.from_pretrained(model_name)\n",
        "model=BlenderbotForConditionalGeneration.from_pretrained(model_name)\n",
        "def interact_with_chatbot(user_input, conversation_history):\n",
        "  conversation_history.append(f\"User: {user_input}\")\n",
        "  conversation_text = \"\".join(conversation_history[-5:])\n",
        "  inputs = tokenizer(conversation_text, return_tensors=\"pt\", truncation=True)\n",
        "  response_ids = model.generate( ** inputs, max_length=1000, pad_token_id=tokenizer.eos_token_id)\n",
        "  response_text = tokenizer.decode(response_ids[0], skip_special_tokens=True)\n",
        "  conversation_history.append(f\"Chatbot: {response_text}\")\n",
        "  return response_text\n",
        "def delete_model_files():\n",
        "  cache_dir=os.path.expanduser(\"~/.cache/huggingface/hub/models--facebook-blenderbot-1B-dstill\")\n",
        "  if os.path.exists(cache_dir):\n",
        "    user_input=input(\"Do you want to delete the model files from the cache directory?\")\n",
        "    if user_input.lower()=='y':\n",
        "      shutil.rmtree(cache_dir)\n",
        "      print(f\"Deleted model files fro cache dir: {cache_dir}\")\n",
        "    else:\n",
        "      print(\"Model file not deleted from cache directory\")\n",
        "  else:\n",
        "    print(f\"Model files not found in cache directory:{cache_dir}\")\n",
        "atexit.register(delete_model_files)\n",
        "print(\"Welcome to the Indian Toursim Chatbot!\")\n",
        "print(\"Type 'quit' to end the conversation.\\n\")\n",
        "conversation_history=[]\n",
        "while True:\n",
        "  user_input=input(\"You: \")\n",
        "  if user_input.lower()=='quit':\n",
        "    print(\"Chatbot: Goodbye!\")\n",
        "    break\n",
        "  response_text=interact_with_chatbot(user_input, conversation_history)\n",
        "  print(f\"Chatbot :{response_text}\")"
      ]
    },
    {
      "cell_type": "code",
      "source": [],
      "metadata": {
        "id": "bBrJllCYrwNT"
      },
      "execution_count": null,
      "outputs": []
    }
  ]
}